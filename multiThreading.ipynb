{
  "nbformat": 4,
  "nbformat_minor": 0,
  "metadata": {
    "colab": {
      "name": "multiThreading.ipynb",
      "provenance": []
    },
    "kernelspec": {
      "name": "python3",
      "display_name": "Python 3"
    }
  },
  "cells": [
    {
      "cell_type": "code",
      "metadata": {
        "colab": {
          "base_uri": "https://localhost:8080/"
        },
        "id": "Sn7f4Dy8jksL",
        "outputId": "57d8cbfd-4ce6-4387-e0bb-185e0e309f80"
      },
      "source": [
        "import time\r\n",
        "start = time.perf_counter()\r\n",
        "\r\n",
        "def do_something():\r\n",
        "  print('sleeping for one second')\r\n",
        "  time.sleep(1)\r\n",
        "  print('slept')\r\n",
        "\r\n",
        "do_something()\r\n",
        "\r\n",
        "finish = time.perf_counter()\r\n",
        "print(f'Finished in {round(finish-start, 2)} seconds')"
      ],
      "execution_count": 2,
      "outputs": [
        {
          "output_type": "stream",
          "text": [
            "sleeping for one second\n",
            "slept\n",
            "Finished in 1.0 seconds\n"
          ],
          "name": "stdout"
        }
      ]
    },
    {
      "cell_type": "code",
      "metadata": {
        "colab": {
          "base_uri": "https://localhost:8080/"
        },
        "id": "lTCOeCiskKIM",
        "outputId": "e6cad681-6709-4172-cff7-0d920409fa40"
      },
      "source": [
        "import time\r\n",
        "import threading\r\n",
        "\r\n",
        "start = time.perf_counter()\r\n",
        "\r\n",
        "def do_something():\r\n",
        "  print('sleeping for one second')\r\n",
        "  time.sleep(1)\r\n",
        "  print('slept')\r\n",
        "\r\n",
        "t1 = threading.Thread(target=do_something)\r\n",
        "t2 = threading.Thread(target=do_something)\r\n",
        "\r\n",
        "t1.start()\r\n",
        "t2.start()\r\n",
        "\r\n",
        "t1.join()\r\n",
        "t2.join()\r\n",
        "\r\n",
        "finish = time.perf_counter()\r\n",
        "print(f'Finished in {round(finish-start, 2)} seconds')"
      ],
      "execution_count": 4,
      "outputs": [
        {
          "output_type": "stream",
          "text": [
            "sleeping for one second\n",
            "sleeping for one second\n",
            "slept\n",
            "slept\n",
            "Finished in 1.01 seconds\n"
          ],
          "name": "stdout"
        }
      ]
    },
    {
      "cell_type": "code",
      "metadata": {
        "colab": {
          "base_uri": "https://localhost:8080/"
        },
        "id": "FoUL4HhSmJ83",
        "outputId": "ca77523d-f9e8-43ca-c712-b17e9ccc6a51"
      },
      "source": [
        "import time\r\n",
        "import threading\r\n",
        "\r\n",
        "start = time.perf_counter()\r\n",
        "\r\n",
        "def do_something():\r\n",
        "  print('sleeping for one second')\r\n",
        "  time.sleep(1)\r\n",
        "  print('slept')\r\n",
        "\r\n",
        "threads = []\r\n",
        "for _ in range(10):\r\n",
        "  t = threading.Thread(target=do_something)\r\n",
        "  t.start()\r\n",
        "  threads.append(t)\r\n",
        "\r\n",
        "for i in threads:\r\n",
        "  i.join()\r\n",
        "\r\n",
        "finish = time.perf_counter()\r\n",
        "print(f'Finished in {round(finish-start, 2)} seconds')"
      ],
      "execution_count": 5,
      "outputs": [
        {
          "output_type": "stream",
          "text": [
            "sleeping for one second\n",
            "sleeping for one second\n",
            "sleeping for one second\n",
            "sleeping for one second\n",
            "sleeping for one second\n",
            "sleeping for one second\n",
            "sleeping for one second\n",
            "sleeping for one second\n",
            "sleeping for one second\n",
            "sleeping for one second\n",
            "slept\n",
            "slept\n",
            "slept\n",
            "slept\n",
            "slept\n",
            "slept\n",
            "slept\n",
            "sleptslept\n",
            "\n",
            "slept\n",
            "Finished in 1.02 seconds\n"
          ],
          "name": "stdout"
        }
      ]
    },
    {
      "cell_type": "code",
      "metadata": {
        "colab": {
          "base_uri": "https://localhost:8080/"
        },
        "id": "E2f4rQ5bnecn",
        "outputId": "a0a4644f-ca32-49f0-d05b-071573b65bf1"
      },
      "source": [
        "import time\r\n",
        "import threading\r\n",
        "\r\n",
        "start = time.perf_counter()\r\n",
        "\r\n",
        "def do_something(sec):\r\n",
        "  print(f'sleeping for {sec} seconds')\r\n",
        "  time.sleep(sec)\r\n",
        "  print('slept')\r\n",
        "\r\n",
        "threads = []\r\n",
        "for _ in range(10):\r\n",
        "  t = threading.Thread(target=do_something, args=[1.5])\r\n",
        "  t.start()\r\n",
        "  threads.append(t)\r\n",
        "\r\n",
        "for i in threads:\r\n",
        "  i.join()\r\n",
        "\r\n",
        "finish = time.perf_counter()\r\n",
        "print(f'Finished in {round(finish-start, 2)} seconds')"
      ],
      "execution_count": 7,
      "outputs": [
        {
          "output_type": "stream",
          "text": [
            "sleeping for 1.5 secondssleeping for 1.5 seconds\n",
            "\n",
            "sleeping for 1.5 seconds\n",
            "sleeping for 1.5 secondssleeping for 1.5 seconds\n",
            "\n",
            "sleeping for 1.5 seconds\n",
            "sleeping for 1.5 secondssleeping for 1.5 seconds\n",
            "\n",
            "sleeping for 1.5 seconds\n",
            "sleeping for 1.5 seconds\n",
            "sleptslept\n",
            "slept\n",
            "\n",
            "slept\n",
            "slept\n",
            "slept\n",
            "slept\n",
            "sleptslept\n",
            "\n",
            "slept\n",
            "Finished in 1.51 seconds\n"
          ],
          "name": "stdout"
        }
      ]
    },
    {
      "cell_type": "markdown",
      "metadata": {
        "id": "Y1vSNHo1qkwd"
      },
      "source": [
        "**New way of using threads**\r\n",
        "\r\n"
      ]
    },
    {
      "cell_type": "code",
      "metadata": {
        "colab": {
          "base_uri": "https://localhost:8080/"
        },
        "id": "4PmiA4Syqoty",
        "outputId": "26520e34-3a22-4913-b56b-9a408fae8214"
      },
      "source": [
        "import concurrent.futures\r\n",
        "import time\r\n",
        "\r\n",
        "start = time.perf_counter()\r\n",
        "\r\n",
        "def do_something(sec):\r\n",
        "  print(f'sleeping for {sec} seconds')\r\n",
        "  time.sleep(sec)\r\n",
        "  return ('done sleeping')\r\n",
        "\r\n",
        "\r\n",
        "with concurrent.futures.ThreadPoolExecutor() as executor:\r\n",
        "  f1 = executor.submit(do_something, 1)\r\n",
        "  f2 = executor.submit(do_something, 1)\r\n",
        "  print(f1.result())\r\n",
        "  print(f2.result())\r\n",
        "\r\n",
        "finish = time.perf_counter()\r\n",
        "print(f'Finished in {round(finish-start, 2)} seconds')"
      ],
      "execution_count": 9,
      "outputs": [
        {
          "output_type": "stream",
          "text": [
            "sleeping for 1 secondssleeping for 1 seconds\n",
            "\n",
            "done sleeping\n",
            "done sleeping\n",
            "Finished in 1.0 seconds\n"
          ],
          "name": "stdout"
        }
      ]
    },
    {
      "cell_type": "code",
      "metadata": {
        "colab": {
          "base_uri": "https://localhost:8080/"
        },
        "id": "h64-kmXQrptO",
        "outputId": "ba7e0e3c-f9cc-41e3-95a4-27cfd1aee6c3"
      },
      "source": [
        "import concurrent.futures\r\n",
        "import time\r\n",
        "\r\n",
        "start = time.perf_counter()\r\n",
        "\r\n",
        "def do_something(sec):\r\n",
        "  print(f'sleeping for {sec} seconds')\r\n",
        "  time.sleep(sec)\r\n",
        "  return ('done sleeping')\r\n",
        "\r\n",
        "\r\n",
        "with concurrent.futures.ThreadPoolExecutor() as executor:\r\n",
        "  results = [executor.submit(do_something, 1) for _ in range(10)]\r\n",
        "  for f in concurrent.futures.as_completed(results):\r\n",
        "    print(f.result())\r\n",
        "\r\n",
        "finish = time.perf_counter()\r\n",
        "print(f'Finished in {round(finish-start, 2)} seconds')"
      ],
      "execution_count": 11,
      "outputs": [
        {
          "output_type": "stream",
          "text": [
            "sleeping for 1 seconds\n",
            "sleeping for 1 seconds\n",
            "sleeping for 1 seconds\n",
            "sleeping for 1 seconds\n",
            "sleeping for 1 seconds\n",
            "sleeping for 1 seconds\n",
            "sleeping for 1 seconds\n",
            "sleeping for 1 seconds\n",
            "sleeping for 1 seconds\n",
            "sleeping for 1 seconds\n",
            "done sleeping\n",
            "done sleeping\n",
            "done sleeping\n",
            "done sleeping\n",
            "done sleeping\n",
            "done sleeping\n",
            "done sleeping\n",
            "done sleeping\n",
            "done sleeping\n",
            "done sleeping\n",
            "Finished in 1.02 seconds\n"
          ],
          "name": "stdout"
        }
      ]
    },
    {
      "cell_type": "code",
      "metadata": {
        "colab": {
          "base_uri": "https://localhost:8080/"
        },
        "id": "Hm5CDSusuQAF",
        "outputId": "39a5889c-3140-4009-f6e2-ff073ad43d17"
      },
      "source": [
        "import concurrent.futures\r\n",
        "import time\r\n",
        "\r\n",
        "start = time.perf_counter()\r\n",
        "\r\n",
        "def do_something(sec):\r\n",
        "  print(f'sleeping for {sec} seconds')\r\n",
        "  time.sleep(sec)\r\n",
        "  return (f'done sleeping')\r\n",
        "\r\n",
        "\r\n",
        "with concurrent.futures.ThreadPoolExecutor() as executor:\r\n",
        "  seconds = [2,5,4,6,7]\r\n",
        "  results = [executor.submit(do_something, sec) for sec in seconds]\r\n",
        "  for f in concurrent.futures.as_completed(results):\r\n",
        "    print(f.result())\r\n",
        "\r\n",
        "finish = time.perf_counter()\r\n",
        "print(f'Finished in {round(finish-start, 2)} seconds')"
      ],
      "execution_count": 12,
      "outputs": [
        {
          "output_type": "stream",
          "text": [
            "sleeping for 2 secondssleeping for 5 seconds\n",
            "\n",
            "sleeping for 4 seconds\n",
            "sleeping for 6 seconds\n",
            "sleeping for 7 seconds\n",
            "done sleeping\n",
            "done sleeping\n",
            "done sleeping\n",
            "done sleeping\n",
            "done sleeping\n",
            "Finished in 7.01 seconds\n"
          ],
          "name": "stdout"
        }
      ]
    },
    {
      "cell_type": "code",
      "metadata": {
        "id": "FGznT14D0fR_"
      },
      "source": [
        "img_urls = [\r\n",
        "    'https://images.unsplash.com/photo-1516117172878-fd2c41f4a759',\r\n",
        "    'https://images.unsplash.com/photo-1532009324734-20a7a5813719',\r\n",
        "    'https://images.unsplash.com/photo-1524429656589-6633a470097c',\r\n",
        "    'https://images.unsplash.com/photo-1530224264768-7ff8c1789d79',\r\n",
        "    'https://images.unsplash.com/photo-1564135624576-c5c88640f235',\r\n",
        "    'https://images.unsplash.com/photo-1541698444083-023c97d3f4b6',\r\n",
        "    'https://images.unsplash.com/photo-1522364723953-452d3431c267',\r\n",
        "    'https://images.unsplash.com/photo-1513938709626-033611b8cc03',\r\n",
        "    'https://images.unsplash.com/photo-1507143550189-fed454f93097',\r\n",
        "    'https://images.unsplash.com/photo-1493976040374-85c8e12f0c0e',\r\n",
        "    'https://images.unsplash.com/photo-1504198453319-5ce911bafcde',\r\n",
        "    'https://images.unsplash.com/photo-1530122037265-a5f1f91d3b99',\r\n",
        "    'https://images.unsplash.com/photo-1516972810927-80185027ca84',\r\n",
        "    'https://images.unsplash.com/photo-1550439062-609e1531270e',\r\n",
        "    'https://images.unsplash.com/photo-1549692520-acc6669e2f0c'\r\n",
        "]"
      ],
      "execution_count": 13,
      "outputs": []
    },
    {
      "cell_type": "code",
      "metadata": {
        "colab": {
          "base_uri": "https://localhost:8080/"
        },
        "id": "iHc_GP1X179t",
        "outputId": "92dcdb56-ca97-4dff-dc4c-dee7f30f0cb2"
      },
      "source": [
        "import requests\r\n",
        "import time\r\n",
        "\r\n",
        "t1 = time.perf_counter()\r\n",
        "\r\n",
        "for img_url in img_urls:\r\n",
        "  img_bytes = requests.get(img_url).content\r\n",
        "  img_name = img_url.split('/')[3]\r\n",
        "  img_name = f'{img_name}.jpg'\r\n",
        "  with open(img_name, 'wb') as img_file:\r\n",
        "    img_file.write(img_bytes)\r\n",
        "    print(f'{img_name} was downloaded..')\r\n",
        "\r\n",
        "t2 = time.perf_counter()\r\n",
        "print(f'Finished in {t2-t1} seconds')"
      ],
      "execution_count": 14,
      "outputs": [
        {
          "output_type": "stream",
          "text": [
            "photo-1516117172878-fd2c41f4a759.jpg was downloaded..\n",
            "photo-1532009324734-20a7a5813719.jpg was downloaded..\n",
            "photo-1524429656589-6633a470097c.jpg was downloaded..\n",
            "photo-1530224264768-7ff8c1789d79.jpg was downloaded..\n",
            "photo-1564135624576-c5c88640f235.jpg was downloaded..\n",
            "photo-1541698444083-023c97d3f4b6.jpg was downloaded..\n",
            "photo-1522364723953-452d3431c267.jpg was downloaded..\n",
            "photo-1513938709626-033611b8cc03.jpg was downloaded..\n",
            "photo-1507143550189-fed454f93097.jpg was downloaded..\n",
            "photo-1493976040374-85c8e12f0c0e.jpg was downloaded..\n",
            "photo-1504198453319-5ce911bafcde.jpg was downloaded..\n",
            "photo-1530122037265-a5f1f91d3b99.jpg was downloaded..\n",
            "photo-1516972810927-80185027ca84.jpg was downloaded..\n",
            "photo-1550439062-609e1531270e.jpg was downloaded..\n",
            "photo-1549692520-acc6669e2f0c.jpg was downloaded..\n",
            "Finished in 17.493434471 seconds\n"
          ],
          "name": "stdout"
        }
      ]
    },
    {
      "cell_type": "code",
      "metadata": {
        "colab": {
          "base_uri": "https://localhost:8080/"
        },
        "id": "kGBP_1hD2wxg",
        "outputId": "37e1c967-f57d-41ff-8aff-e4e4a55954e7"
      },
      "source": [
        "import requests\r\n",
        "import time\r\n",
        "import concurrent.futures\r\n",
        "\r\n",
        "t1 = time.perf_counter()\r\n",
        "\r\n",
        "def download_img(img_url):\r\n",
        "  img_bytes = requests.get(img_url).content\r\n",
        "  img_name = img_url.split('/')[3]\r\n",
        "  img_name = f'{img_name}.jpg'\r\n",
        "  with open(img_name, 'wb') as img_file:\r\n",
        "    img_file.write(img_bytes)\r\n",
        "    print(f'{img_name} was downloaded..')\r\n",
        "\r\n",
        "with concurrent.futures.ThreadPoolExecutor() as executor:\r\n",
        "  executor.map(download_img, img_urls)\r\n",
        "\r\n",
        "\r\n",
        "t2 = time.perf_counter()\r\n",
        "print(f'Finished in {t2-t1} seconds')"
      ],
      "execution_count": 15,
      "outputs": [
        {
          "output_type": "stream",
          "text": [
            "photo-1564135624576-c5c88640f235.jpg was downloaded..\n",
            "photo-1516117172878-fd2c41f4a759.jpg was downloaded..\n",
            "photo-1524429656589-6633a470097c.jpg was downloaded..\n",
            "photo-1507143550189-fed454f93097.jpg was downloaded..\n",
            "photo-1530224264768-7ff8c1789d79.jpg was downloaded..\n",
            "photo-1513938709626-033611b8cc03.jpg was downloaded..\n",
            "photo-1549692520-acc6669e2f0c.jpg was downloaded..\n",
            "photo-1550439062-609e1531270e.jpg was downloaded..\n",
            "photo-1504198453319-5ce911bafcde.jpg was downloaded..\n",
            "photo-1516972810927-80185027ca84.jpg was downloaded..\n",
            "photo-1530122037265-a5f1f91d3b99.jpg was downloaded..\n",
            "photo-1493976040374-85c8e12f0c0e.jpg was downloaded..\n",
            "photo-1532009324734-20a7a5813719.jpg was downloaded..\n",
            "photo-1522364723953-452d3431c267.jpg was downloaded..\n",
            "photo-1541698444083-023c97d3f4b6.jpg was downloaded..\n",
            "Finished in 2.342324797999936 seconds\n"
          ],
          "name": "stdout"
        }
      ]
    },
    {
      "cell_type": "code",
      "metadata": {
        "id": "n9JryOvi4JMa"
      },
      "source": [
        ""
      ],
      "execution_count": null,
      "outputs": []
    }
  ]
}